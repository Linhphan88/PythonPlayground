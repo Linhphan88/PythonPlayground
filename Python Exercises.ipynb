{
 "cells": [
  {
   "cell_type": "code",
   "execution_count": 1,
   "metadata": {},
   "outputs": [
    {
     "name": "stdout",
     "output_type": "stream",
     "text": [
      "Hello world\n",
      "Hi\n"
     ]
    }
   ],
   "source": [
    "print(\"Hello world\")\n",
    "print(\"Hi\")\n"
   ]
  },
  {
   "cell_type": "code",
   "execution_count": 2,
   "metadata": {},
   "outputs": [
    {
     "name": "stdout",
     "output_type": "stream",
     "text": [
      "Linh\n"
     ]
    },
    {
     "data": {
      "text/plain": [
       "str"
      ]
     },
     "execution_count": 2,
     "metadata": {},
     "output_type": "execute_result"
    }
   ],
   "source": [
    "#Ex.1\n",
    "my_name = \"Linh\"\n",
    "print(my_name)\n",
    "type(my_name)\n",
    "\n"
   ]
  },
  {
   "cell_type": "code",
   "execution_count": 1,
   "metadata": {},
   "outputs": [
    {
     "name": "stdout",
     "output_type": "stream",
     "text": [
      "My age is: 18\n"
     ]
    }
   ],
   "source": [
    "#Ex.2\n",
    "age = 18\n",
    "print('My age is:', age)"
   ]
  },
  {
   "cell_type": "code",
   "execution_count": 2,
   "metadata": {},
   "outputs": [
    {
     "name": "stdout",
     "output_type": "stream",
     "text": [
      "the difference of the age is: 3\n"
     ]
    }
   ],
   "source": [
    "#Ex.3\n",
    "Julia_age = 32\n",
    "age_difference = 35 - Julia_age\n",
    "print('the difference of the age is:', age_difference)"
   ]
  },
  {
   "cell_type": "code",
   "execution_count": 5,
   "metadata": {},
   "outputs": [
    {
     "name": "stdout",
     "output_type": "stream",
     "text": [
      "You are older than 21\n"
     ]
    }
   ],
   "source": [
    "#Ex.4\n",
    "age = 35  \n",
    "\n",
    "if age > 21:\n",
    "    print(\"You are older than 21\")\n",
    "else:\n",
    "    print(\"You are not older than 21\")"
   ]
  },
  {
   "cell_type": "code",
   "execution_count": 6,
   "metadata": {},
   "outputs": [
    {
     "name": "stdout",
     "output_type": "stream",
     "text": [
      "Julia is younger than you\n"
     ]
    }
   ],
   "source": [
    "#Ex.5\n",
    "your_age = 35  \n",
    "julia_age = 32  \n",
    "\n",
    "if your_age > julia_age:\n",
    "    print(\"Julia is younger than you\")\n",
    "elif your_age < julia_age:\n",
    "    print(\"Julia is older than you\")\n",
    "else:\n",
    "    print(\"You have the same age as Julia\")"
   ]
  },
  {
   "cell_type": "code",
   "execution_count": 4,
   "metadata": {},
   "outputs": [
    {
     "name": "stdout",
     "output_type": "stream",
     "text": [
      "['Arjun', 'Killian', 'Kojo', 'Leonardo', 'Linh', 'Max', 'Miriam', 'Muayad']\n",
      "['Arjun', 'Killian', 'Kojo', 'Leonardo', 'Linh', 'Max', 'Miriam', 'Muayad']\n",
      "Arjun\n",
      "Muayad\n",
      " The students list: Linh\n",
      " The students list: Kojo\n",
      " The students list: Max\n",
      " The students list: Leonardo\n",
      " The students list: Miriam\n",
      " The students list: Arjun\n",
      " The students list: Muayad\n",
      " The students list: Killian\n"
     ]
    }
   ],
   "source": [
    "#Ex.6\n",
    "\n",
    "Studentlist = [\"Linh\", \"Kojo\", \"Max\",\"Leonardo\",\"Miriam\",\"Arjun\",\"Muayad\",\"Killian\"]\n",
    "my_sorted_list =sorted(Studentlist)\n",
    "print(my_sorted_list)\n",
    "\n",
    "# sorted the list\n",
    "print(my_sorted_list)\n",
    "\n",
    "# the list name\n",
    "print(my_sorted_list[0])\n",
    "\n",
    "# the last name \n",
    "print(my_sorted_list[-1])\n",
    "\n",
    "# loops\n",
    "for name in Studentlist:\n",
    "   print(' The students list:', name)\n",
    "\n"
   ]
  },
  {
   "cell_type": "code",
   "execution_count": 30,
   "metadata": {},
   "outputs": [
    {
     "name": "stdout",
     "output_type": "stream",
     "text": [
      "20\n",
      "18\n",
      "22\n",
      "19\n",
      "21\n",
      "40\n",
      "25\n",
      "7\n"
     ]
    }
   ],
   "source": [
    "# Ex.7 \n",
    "ages = [20, 18, 22, 19, 21, 40,25]  # Example list of ages\n",
    "\n",
    "\n",
    "\n",
    "# Using a while loop to iterate through the list\n",
    "\n",
    "i = 0\n",
    "while i < len(ages):\n",
    "    print(ages[i])\n",
    "    i += 1\n",
    "print(i)\n",
    "\n",
    "\n",
    "\n",
    "\n",
    "\n"
   ]
  },
  {
   "cell_type": "code",
   "execution_count": 33,
   "metadata": {},
   "outputs": [
    {
     "name": "stdout",
     "output_type": "stream",
     "text": [
      "20\n",
      "18\n",
      "22\n",
      "19\n",
      "21\n",
      "40\n",
      "25\n",
      "20 18 22 40 "
     ]
    }
   ],
   "source": [
    "# use:for\n",
    "ages = [20, 18, 22, 19, 21, 40,25] \n",
    "for age in ages:\n",
    "    print(age)\n",
    "for age in ages:\n",
    "    if age %2 == 0:\n",
    "       print(age, end = \" \")"
   ]
  },
  {
   "cell_type": "code",
   "execution_count": 25,
   "metadata": {},
   "outputs": [
    {
     "name": "stdout",
     "output_type": "stream",
     "text": [
      "20\n",
      "18\n",
      "22\n",
      "40\n"
     ]
    }
   ],
   "source": [
    "# Using a while loop to print only even numbers\n",
    "ages = [20, 18, 22, 19, 21, 40,25]\n",
    "i = 0\n",
    "\n",
    "while i < len(ages):\n",
    "    if ages[i] % 2 == 0:\n",
    "        print(ages[i])\n",
    "    i += 1\n",
    "   \n",
    "    \n"
   ]
  },
  {
   "cell_type": "code",
   "execution_count": 14,
   "metadata": {},
   "outputs": [
    {
     "name": "stdout",
     "output_type": "stream",
     "text": [
      "19\n",
      "21\n",
      "25\n"
     ]
    }
   ],
   "source": [
    "#oven number\n",
    "ages = [20, 18, 22, 19, 21, 40,25]\n",
    "i = 0\n",
    "while i < len(ages):\n",
    "    if ages[i] % 2 != 0:\n",
    "        print(ages[i])\n",
    "    i += 1"
   ]
  },
  {
   "cell_type": "code",
   "execution_count": 9,
   "metadata": {},
   "outputs": [
    {
     "name": "stdout",
     "output_type": "stream",
     "text": [
      "1\n",
      "9\n"
     ]
    }
   ],
   "source": [
    "#Ex.8,9\n",
    "# list of number\n",
    "numbers = [2,7,9,1,3,5]\n",
    "# the lowerst number\n",
    "lowerst_numbers = min(numbers)\n",
    "print(lowerst_numbers)\n",
    "# the highest number\n",
    "highest_number = max(numbers)\n",
    "print(highest_number)"
   ]
  },
  {
   "cell_type": "code",
   "execution_count": 10,
   "metadata": {},
   "outputs": [
    {
     "name": "stdout",
     "output_type": "stream",
     "text": [
      "2023-06-02 12:32:26.297594\n",
      "2023\n",
      "Customer born in 1999 is 24 years old.\n",
      "Customer born in 1995 is 28 years old.\n",
      "Customer born in 2005 is 18 years old.\n",
      "Customer born in 2010 is 13 years old.\n",
      "Customer born in 2007 is 16 years old.\n",
      "Customer born in 2006 is 17 years old.\n",
      "Customer born in 1994 is 29 years old.\n",
      "Customer born in 1996 is 27 years old.\n",
      "Customer born in 1979 is 44 years old.\n",
      "Customer born in 2008 is 15 years old.\n"
     ]
    }
   ],
   "source": [
    "#Ex.10\n",
    "# List of birth years\n",
    "birth_years = [1999, 1995, 2005, 2010, 2007, 2006, 1994, 1996, 1979, 2008]\n",
    "\n",
    "# Get the current year\n",
    "from datetime import datetime\n",
    "now = datetime.now()\n",
    "print(now)\n",
    "year = now.year \n",
    "print(year)\n",
    "\n",
    "# Iterate over the birth years and calculate age\n",
    "for x in birth_years:\n",
    "    current_age = year - x\n",
    "    print(f\"Customer born in {x} is {current_age} years old.\")"
   ]
  },
  {
   "cell_type": "code",
   "execution_count": 11,
   "metadata": {},
   "outputs": [
    {
     "name": "stdout",
     "output_type": "stream",
     "text": [
      "10\n",
      "Bob is 1999 years old.\n",
      "Bob is 1999 years old.\n",
      "Jack is 1995 years old.\n",
      "Jack is 1995 years old.\n",
      "Lisa is 2005 years old.\n",
      "Lisa is 2005 years old.\n",
      "Maria is 2010 years old.\n",
      "Maria is 2010 years old.\n",
      "Ben is 2007 years old.\n",
      "Ben is 2007 years old.\n",
      "Emma is 2006 years old.\n",
      "Emma is 2006 years old.\n",
      "Oscar is 1994 years old.\n",
      "Oscar is 1994 years old.\n",
      "Amy is 1996 years old.\n",
      "Amy is 1996 years old.\n",
      "Paul is 1979 years old.\n",
      "Paul is 1979 years old.\n",
      "Etta is 2008 years old.\n",
      "Etta is 2008 years old.\n"
     ]
    }
   ],
   "source": [
    "#Ex.11\n",
    "customer_list = [\n",
    "    \n",
    "    {\"name\": \"Bob\", \"age\": 1999},\n",
    "    {\"name\": \"Jack\", \"age\": 1995},\n",
    "    {\"name\": \"Lisa\", \"age\": 2005},\n",
    "    {\"name\": \"Maria\", \"age\": 2010},\n",
    "    {\"name\": \"Ben\", \"age\": 2007},\n",
    "    {\"name\": \"Emma\", \"age\": 2006},\n",
    "    {\"name\": \"Oscar\", \"age\": 1994},\n",
    "    {\"name\": \"Amy\", \"age\": 1996},\n",
    "    {\"name\": \"Paul\", \"age\": 1979},\n",
    "    {\"name\": \"Etta\", \"age\": 2008}\n",
    "]\n",
    "print(len(customer_list))\n",
    "\n",
    "# Iterate over the customer list\n",
    "for customer in customer_list:\n",
    "\n",
    "    print(customer[\"name\"], \"is\", customer[\"age\"], \"years old.\")  # cach 1\n",
    "\n",
    "\n",
    "    # cach 2\n",
    "    name = customer[\"name\"]\n",
    "    age = customer[\"age\"]\n",
    "    print(f\"{name} is {age} years old.\")                          \n"
   ]
  },
  {
   "cell_type": "code",
   "execution_count": 49,
   "metadata": {},
   "outputs": [
    {
     "name": "stdout",
     "output_type": "stream",
     "text": [
      "[9, 11, 12, 13, 14, 20, 23, 24, 25, 40]\n",
      "[11, 12, 13, 14, 20, 23, 24, 25]\n"
     ]
    }
   ],
   "source": [
    "# Given a list of ages, remove the youngest and the oldest person.\n",
    "ages = [20, 24, 14, 9, 12, 13, 25, 23, 40, 11]\n",
    "ages.sort()\n",
    "print(ages)\n",
    "middle_ages = ages [1:-1]\n",
    "print(middle_ages)"
   ]
  },
  {
   "cell_type": "code",
   "execution_count": 37,
   "metadata": {},
   "outputs": [
    {
     "name": "stdout",
     "output_type": "stream",
     "text": [
      "[9, 11, 12, 13, 14, 20, 23, 24, 25, 40]\n",
      "[11, 12, 13, 14, 20, 23, 24, 25]\n"
     ]
    }
   ],
   "source": [
    "# Ex 12:\n",
    "ages = [20, 24, 14, 9, 12, 13, 25, 23, 40, 11]\n",
    "ages.sort()\n",
    "print(ages)\n",
    "ages.pop(0)\n",
    "ages.pop(-1)\n",
    "print(ages)"
   ]
  },
  {
   "cell_type": "code",
   "execution_count": null,
   "metadata": {},
   "outputs": [],
   "source": []
  },
  {
   "cell_type": "code",
   "execution_count": 42,
   "metadata": {},
   "outputs": [
    {
     "name": "stdout",
     "output_type": "stream",
     "text": [
      "[10, 13, 15, 16, 18, 19]\n"
     ]
    }
   ],
   "source": [
    "#Ex.13\n",
    "berlin = [15, 13, 16, 18, 19, 10, 12]\n",
    "munich = [7, 13, 15, 20, 19, 18, 10, 16]\n",
    "\n",
    "# Convert the lists to sets\n",
    "berlin_set = set(berlin)\n",
    "munich_set = set(munich)\n",
    "\n",
    "# Find the common ages using set intersection\n",
    "common_ages = list(berlin_set.intersection(munich_set))\n",
    "\n",
    "# Print the list of common ages\n",
    "print(common_ages)\n"
   ]
  },
  {
   "cell_type": "code",
   "execution_count": null,
   "metadata": {},
   "outputs": [
    {
     "name": "stdout",
     "output_type": "stream",
     "text": [
      "[10, 13, 15, 16, 18, 19]\n"
     ]
    }
   ],
   "source": [
    "#Ex.14\n",
    "ages = [15, 13, 16, 18, 19, 15, 10]\n",
    "\n",
    "\n",
    "# Convert the list to a set to remove duplicates\n",
    "unique_ages = list(set(ages))\n",
    "\n",
    "# Print the list with duplicates removed\n",
    "print(unique_ages)"
   ]
  },
  {
   "cell_type": "code",
   "execution_count": null,
   "metadata": {},
   "outputs": [
    {
     "name": "stdout",
     "output_type": "stream",
     "text": [
      "Welcome Evelyn, have a nice day!\n",
      "Welcome Jost, have a nice day!\n"
     ]
    }
   ],
   "source": [
    "#Ex.15\n",
    "def welcome(name):\n",
    "    print(f\"Welcome {name}, have a nice day!\")\n",
    "    \n",
    "welcome('Evelyn')\n",
    "welcome('Jost')"
   ]
  },
  {
   "cell_type": "code",
   "execution_count": null,
   "metadata": {},
   "outputs": [
    {
     "name": "stdout",
     "output_type": "stream",
     "text": [
      "5\n",
      "2\n"
     ]
    }
   ],
   "source": [
    "#Ex.16\n",
    "def get_length(string):\n",
    "    length = len(string)\n",
    "    return length\n",
    "length_1 = get_length('Hello')\n",
    "print(length_1)\n",
    "\n",
    "length_2 = get_length('Hi')\n",
    "print(length_2)"
   ]
  },
  {
   "cell_type": "code",
   "execution_count": null,
   "metadata": {},
   "outputs": [
    {
     "name": "stdout",
     "output_type": "stream",
     "text": [
      "Yes\n",
      "No\n"
     ]
    }
   ],
   "source": [
    "#Ex.17\n",
    "def check_even(number):\n",
    "    if number % 2 == 0:\n",
    "        return 'Yes'\n",
    "    else:\n",
    "        return 'No'\n",
    "result_1 = check_even(6)\n",
    "print(result_1)\n",
    "\n",
    "result_2 = check_even(5)\n",
    "print(result_2)"
   ]
  },
  {
   "cell_type": "code",
   "execution_count": null,
   "metadata": {},
   "outputs": [
    {
     "name": "stdout",
     "output_type": "stream",
     "text": [
      "Bob is 1999 years old\n",
      "Jack is 1995 years old\n",
      "Lisa is 2005 years old\n",
      "Maria is 2010 years old\n",
      "Ben is 2007 years old\n",
      "Emma is 2006 years old\n",
      "Oscar is 1994 years old\n",
      "Amy is 1996 years old\n",
      "Paul is 1979 years old\n",
      "Etta is 2008 years old\n",
      "None\n"
     ]
    }
   ],
   "source": [
    "#Ex.18\n",
    "customer_list = [\n",
    "    \n",
    "    {\"name\": \"Bob\", \"age\": 1999},\n",
    "    {\"name\": \"Jack\", \"age\": 1995},\n",
    "    {\"name\": \"Lisa\", \"age\": 2005},\n",
    "    {\"name\": \"Maria\", \"age\": 2010},\n",
    "    {\"name\": \"Ben\", \"age\": 2007},\n",
    "    {\"name\": \"Emma\", \"age\": 2006},\n",
    "    {\"name\": \"Oscar\", \"age\": 1994},\n",
    "    {\"name\": \"Amy\", \"age\": 1996},\n",
    "    {\"name\": \"Paul\", \"age\": 1979},\n",
    "    {\"name\": \"Etta\", \"age\": 2008}\n",
    "]\n",
    "# in a function \n",
    "def customer_details(customers):\n",
    "    for customer in customers:\n",
    "        name = customer[\"name\"]\n",
    "        age = customer[\"age\"]\n",
    "        print(f\"{name} is {age} years old\")\n",
    "print(customer_details(customer_list))\n"
   ]
  },
  {
   "cell_type": "code",
   "execution_count": null,
   "metadata": {},
   "outputs": [
    {
     "name": "stdout",
     "output_type": "stream",
     "text": [
      "[11, 12, 13, 14, 20, 23, 24, 25]\n"
     ]
    }
   ],
   "source": [
    "# Ex 19\n",
    "\n",
    "ages = [20, 24, 14, 9, 12, 13, 25, 23, 40, 11]\n",
    "\n",
    "def new (ages):\n",
    "    sorted_ages = sorted(ages)\n",
    "    result = sorted_ages[1:-1]\n",
    "    return result\n",
    "\n",
    "result = new(ages)\n",
    "print(result)\n",
    "     \n",
    "     \n",
    "     \n"
   ]
  },
  {
   "cell_type": "code",
   "execution_count": null,
   "metadata": {},
   "outputs": [
    {
     "name": "stdout",
     "output_type": "stream",
     "text": [
      "[15, 13, 16, 18, 19, 10]\n"
     ]
    }
   ],
   "source": [
    "# Ex 20\n",
    "berlin = [15, 13, 16, 18, 19, 10, 12]\n",
    "munich = [7, 13, 15, 20, 19, 18, 10, 16]\n",
    "\n",
    "def find_common_ages(list1, list2):\n",
    "    common_ages = []\n",
    "    for age in list1:\n",
    "        if age in list2 and age not in common_ages:\n",
    "            common_ages.append(age)\n",
    "    return common_ages\n",
    "\n",
    "\n",
    "common_ages = find_common_ages(berlin, munich)\n",
    "print(common_ages)"
   ]
  },
  {
   "cell_type": "code",
   "execution_count": null,
   "metadata": {},
   "outputs": [
    {
     "name": "stdout",
     "output_type": "stream",
     "text": [
      "[10, 13, 15, 16, 18, 19]\n"
     ]
    }
   ],
   "source": [
    "# Ex 21\n",
    "ages = [15, 13, 16, 18, 19, 15, 10]\n",
    "def remove_duplicates(ages):\n",
    "    new_ages = list(set(ages))\n",
    "    return new_ages\n",
    "\n",
    "\n",
    "result = remove_duplicates(ages)\n",
    "print(result)"
   ]
  },
  {
   "cell_type": "code",
   "execution_count": 51,
   "metadata": {},
   "outputs": [
    {
     "name": "stdout",
     "output_type": "stream",
     "text": [
      "True\n"
     ]
    }
   ],
   "source": [
    "# Ex 22\n",
    "ages = [15, 13, 16, 18, 19, 15, 10]\n",
    "age_to_check = 15\n",
    "\n",
    "\n",
    "def check_age_presence(ages, age_to_check):\n",
    "    return age_to_check in ages\n",
    "\n",
    "\n",
    "age_present = check_age_presence(ages, age_to_check)\n",
    "print(age_present)"
   ]
  },
  {
   "cell_type": "code",
   "execution_count": 50,
   "metadata": {},
   "outputs": [
    {
     "name": "stdout",
     "output_type": "stream",
     "text": [
      "False\n"
     ]
    }
   ],
   "source": [
    "a = [2,5,7,]\n",
    "b = 1 \n",
    "if b in a :\n",
    "    print(True)\n",
    "else:\n",
    "    print(False)"
   ]
  },
  {
   "cell_type": "code",
   "execution_count": null,
   "metadata": {},
   "outputs": [],
   "source": []
  },
  {
   "cell_type": "code",
   "execution_count": null,
   "metadata": {},
   "outputs": [],
   "source": []
  },
  {
   "attachments": {},
   "cell_type": "markdown",
   "metadata": {},
   "source": [
    "Python Implicit Type Conversion"
   ]
  },
  {
   "cell_type": "code",
   "execution_count": 1,
   "metadata": {},
   "outputs": [
    {
     "name": "stdout",
     "output_type": "stream",
     "text": [
      "Data type of num_string before Type Casting: <class 'str'>\n",
      "Data type of num_string after Type Casting: <class 'int'>\n",
      "Sum: 35\n",
      "Data type of num_sum: <class 'int'>\n"
     ]
    }
   ],
   "source": [
    "num_string = '12'\n",
    "num_integer = 23\n",
    "\n",
    "print(\"Data type of num_string before Type Casting:\",type(num_string))\n",
    "\n",
    "# explicit type conversion\n",
    "num_string = int(num_string)\n",
    "\n",
    "print(\"Data type of num_string after Type Casting:\",type(num_string))\n",
    "\n",
    "num_sum = num_integer + num_string\n",
    "\n",
    "print(\"Sum:\",num_sum)\n",
    "print(\"Data type of num_sum:\",type(num_sum))"
   ]
  },
  {
   "cell_type": "code",
   "execution_count": 2,
   "metadata": {},
   "outputs": [
    {
     "name": "stdout",
     "output_type": "stream",
     "text": [
      "Value: 124.23\n",
      "Data Type: <class 'float'>\n"
     ]
    }
   ],
   "source": [
    "# khai bao bien co ten de tien theo doi\n",
    "integer_number = 123\n",
    "float_number = 1.23\n",
    "\n",
    "new_number = integer_number + float_number\n",
    "\n",
    "# display new value and resulting data type\n",
    "print(\"Value:\",new_number)\n",
    "print(\"Data Type:\",type(new_number))"
   ]
  },
  {
   "cell_type": "code",
   "execution_count": 3,
   "metadata": {},
   "outputs": [
    {
     "name": "stdout",
     "output_type": "stream",
     "text": [
      "Good Morning! It is rainy today\n"
     ]
    }
   ],
   "source": [
    "# print with end whitespace\n",
    "print('Good Morning!', end= ' ')\n",
    "\n",
    "print('It is rainy today')"
   ]
  },
  {
   "cell_type": "code",
   "execution_count": 4,
   "metadata": {},
   "outputs": [
    {
     "name": "stdout",
     "output_type": "stream",
     "text": [
      "New Year. 2023. See you soon!\n"
     ]
    }
   ],
   "source": [
    "print('New Year', 2023, 'See you soon!', sep= '. ')"
   ]
  },
  {
   "cell_type": "code",
   "execution_count": 7,
   "metadata": {},
   "outputs": [
    {
     "name": "stdout",
     "output_type": "stream",
     "text": [
      "Felix is sehr Thoi\n"
     ]
    }
   ],
   "source": [
    "\n",
    "print('Felix is ' +'sehr' ,'Thoi')\n",
    "\n"
   ]
  },
  {
   "cell_type": "code",
   "execution_count": 8,
   "metadata": {},
   "outputs": [
    {
     "name": "stdout",
     "output_type": "stream",
     "text": [
      "The value of x is 5 and y is 10\n"
     ]
    }
   ],
   "source": [
    "x = 5\n",
    "y = 10\n",
    "\n",
    "print('The value of x is {} and y is {}'.format(x,y))"
   ]
  },
  {
   "cell_type": "code",
   "execution_count": 9,
   "metadata": {},
   "outputs": [
    {
     "name": "stdout",
     "output_type": "stream",
     "text": [
      "You Entered: 1\n",
      "Data type of num: <class 'str'>\n"
     ]
    }
   ],
   "source": [
    "# using input() to take user input\n",
    "num = input('Enter a number: ')\n",
    "\n",
    "print('You Entered:', num)\n",
    "\n",
    "print('Data type of num:', type(num))\n"
   ]
  },
  {
   "cell_type": "code",
   "execution_count": 13,
   "metadata": {},
   "outputs": [
    {
     "name": "stdout",
     "output_type": "stream",
     "text": [
      "your enter:  1\n",
      "Data type is: <class 'str'>\n"
     ]
    }
   ],
   "source": [
    "num = input('the number is: ')\n",
    "print('your enter: ', num)\n",
    "print('Data type is:', type(num))"
   ]
  },
  {
   "attachments": {},
   "cell_type": "markdown",
   "metadata": {},
   "source": [
    "Python Arithmetic Operators"
   ]
  },
  {
   "cell_type": "code",
   "execution_count": 14,
   "metadata": {},
   "outputs": [
    {
     "name": "stdout",
     "output_type": "stream",
     "text": [
      "Sum:  9\n",
      "Subtraction:  5\n",
      "Multiplication:  14\n",
      "Division:  3.5\n",
      "Floor Division:  3\n",
      "Modulo:  1\n",
      "Power:  49\n"
     ]
    }
   ],
   "source": [
    "a = 7\n",
    "b = 2\n",
    "\n",
    "# addition\n",
    "print ('Sum: ', a + b)  \n",
    "\n",
    "# subtraction\n",
    "print ('Subtraction: ', a - b)   \n",
    "\n",
    "# multiplication\n",
    "print ('Multiplication: ', a * b)  \n",
    "\n",
    "# division\n",
    "print ('Division: ', a / b) \n",
    "\n",
    "# floor division\n",
    "print ('Floor Division: ', a // b)\n",
    "\n",
    "# modulo\n",
    "print ('Modulo: ', a % b)  \n",
    "\n",
    "# a to the power b\n",
    "print ('Power: ', a ** b)   "
   ]
  },
  {
   "attachments": {},
   "cell_type": "markdown",
   "metadata": {},
   "source": [
    "Python Assignment Operators"
   ]
  },
  {
   "cell_type": "code",
   "execution_count": 15,
   "metadata": {},
   "outputs": [
    {
     "name": "stdout",
     "output_type": "stream",
     "text": [
      "a == b = False\n",
      "a != b = True\n",
      "a > b = True\n",
      "a < b = False\n",
      "a >= b = True\n",
      "a <= b = False\n"
     ]
    }
   ],
   "source": [
    "a = 5\n",
    "\n",
    "b = 2\n",
    "\n",
    "# equal to operator\n",
    "print('a == b =', a == b)\n",
    "\n",
    "# not equal to operator\n",
    "print('a != b =', a != b)\n",
    "\n",
    "# greater than operator\n",
    "print('a > b =', a > b)\n",
    "\n",
    "# less than operator\n",
    "print('a < b =', a < b)\n",
    "\n",
    "# greater than or equal to operator\n",
    "print('a >= b =', a >= b)\n",
    "\n",
    "# less than or equal to operator\n",
    "print('a <= b =', a <= b)"
   ]
  },
  {
   "cell_type": "code",
   "execution_count": 16,
   "metadata": {},
   "outputs": [
    {
     "name": "stdout",
     "output_type": "stream",
     "text": [
      "True\n",
      "True\n",
      "True\n",
      "False\n"
     ]
    }
   ],
   "source": [
    "x = 'Hello world'\n",
    "y = {1:'a', 2:'b'}\n",
    "\n",
    "# check if 'H' is present in x string\n",
    "print('H' in x)  # prints True\n",
    "\n",
    "# check if 'hello' is present in x string\n",
    "print('hello' not in x)  # prints True\n",
    "\n",
    "# check if '1' key is present in y\n",
    "print(1 in y)  # prints True\n",
    "\n",
    "# check if 'a' key is present in y\n",
    "print('a' in y)  # prints False"
   ]
  },
  {
   "attachments": {},
   "cell_type": "markdown",
   "metadata": {},
   "source": [
    "If"
   ]
  },
  {
   "cell_type": "code",
   "execution_count": 17,
   "metadata": {},
   "outputs": [
    {
     "name": "stdout",
     "output_type": "stream",
     "text": [
      "Number is positive.\n",
      "The if statement is easy\n"
     ]
    }
   ],
   "source": [
    "number = 10\n",
    "\n",
    "# check if number is greater than 0\n",
    "if number > 0:\n",
    "    print('Number is positive.')\n",
    "\n",
    "print('The if statement is easy')"
   ]
  },
  {
   "attachments": {},
   "cell_type": "markdown",
   "metadata": {},
   "source": [
    "Python if...else Statement"
   ]
  },
  {
   "cell_type": "code",
   "execution_count": 18,
   "metadata": {},
   "outputs": [
    {
     "name": "stdout",
     "output_type": "stream",
     "text": [
      "Positive number\n",
      "This statement is always executed\n"
     ]
    }
   ],
   "source": [
    "number = 10\n",
    "\n",
    "if number > 0:\n",
    "    print('Positive number')\n",
    "\n",
    "else:\n",
    "    print('Negative number')\n",
    "\n",
    "print('This statement is always executed')"
   ]
  },
  {
   "cell_type": "code",
   "execution_count": 19,
   "metadata": {},
   "outputs": [
    {
     "name": "stdout",
     "output_type": "stream",
     "text": [
      "Positive number\n",
      "This statement is always executed\n"
     ]
    }
   ],
   "source": [
    "number = 10\n",
    "\n",
    "if number > 0:\n",
    "    print(\"Positive number\")\n",
    "\n",
    "elif number == 0:\n",
    "    print('Zero')\n",
    "else:\n",
    "    print('Negative number')\n",
    "\n",
    "print('This statement is always executed')"
   ]
  },
  {
   "attachments": {},
   "cell_type": "markdown",
   "metadata": {},
   "source": [
    "Python Nested if statements"
   ]
  },
  {
   "cell_type": "code",
   "execution_count": null,
   "metadata": {},
   "outputs": [],
   "source": [
    "# outer if statement\n",
    "#if condition1:\n",
    "    # statement(s)\n",
    "\n",
    "    # inner if statement\n",
    "   # if condition2: \n",
    "        # statement(s)"
   ]
  },
  {
   "cell_type": "code",
   "execution_count": 20,
   "metadata": {},
   "outputs": [
    {
     "name": "stdout",
     "output_type": "stream",
     "text": [
      "Number is positive\n"
     ]
    }
   ],
   "source": [
    "number = 5\n",
    "\n",
    "# outer if statement\n",
    "if (number >= 0):\n",
    "    # inner if statement\n",
    "    if number == 0:\n",
    "      print('Number is 0')\n",
    "    \n",
    "    # inner else statement\n",
    "    else:\n",
    "        print('Number is positive')\n",
    "\n",
    "# outer else statement\n",
    "else:\n",
    "    print('Number is negative')\n",
    "\n",
    "# Output: Number is positive"
   ]
  },
  {
   "attachments": {},
   "cell_type": "markdown",
   "metadata": {},
   "source": [
    "Loop"
   ]
  },
  {
   "cell_type": "code",
   "execution_count": 21,
   "metadata": {},
   "outputs": [
    {
     "name": "stdout",
     "output_type": "stream",
     "text": [
      "Swift\n",
      "Python\n",
      "Go\n",
      "JavaScript\n"
     ]
    }
   ],
   "source": [
    "languages = ['Swift', 'Python', 'Go', 'JavaScript']\n",
    "\n",
    "# run a loop for each item of the list\n",
    "for language in languages:\n",
    "    print(language)"
   ]
  },
  {
   "cell_type": "code",
   "execution_count": null,
   "metadata": {},
   "outputs": [],
   "source": []
  }
 ],
 "metadata": {
  "kernelspec": {
   "display_name": "Python 3",
   "language": "python",
   "name": "python3"
  },
  "language_info": {
   "codemirror_mode": {
    "name": "ipython",
    "version": 3
   },
   "file_extension": ".py",
   "mimetype": "text/x-python",
   "name": "python",
   "nbconvert_exporter": "python",
   "pygments_lexer": "ipython3",
   "version": "3.10.9"
  },
  "orig_nbformat": 4
 },
 "nbformat": 4,
 "nbformat_minor": 2
}
